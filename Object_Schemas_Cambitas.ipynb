{
  "nbformat": 4,
  "nbformat_minor": 0,
  "metadata": {
    "colab": {
      "provenance": []
    },
    "kernelspec": {
      "name": "python3",
      "display_name": "Python 3"
    },
    "language_info": {
      "name": "python"
    }
  },
  "cells": [
    {
      "cell_type": "markdown",
      "source": [
        "# InventoryItem"
      ],
      "metadata": {
        "id": "ZZNU2uK7xeDV"
      }
    },
    {
      "cell_type": "markdown",
      "source": [
        "Schema for an *InventoryItem*. This is the object that is uploaded to the database, managed between projects, used, requested, deleted, etc. It can take form as either a tool (reusable) or a material (used then removed). These are determined in the sub-enum called *ItemType*. When an item type is decided, it is possible to provide specifics for the item. If the item is a tool, then it will receive a QR code that corresponds with the tools' *objectID* (UUID). Another note: *id*, *objectID*, and *qrCodeID* are all the same values. *serialID* is what the tool actually has on it's label usually by the manufacterer. This helps to differentiate identical tools. If you have questions about this object, write them below:"
      ],
      "metadata": {
        "id": "vmR95OF9wC1Y"
      }
    },
    {
      "cell_type": "code",
      "execution_count": null,
      "metadata": {
        "id": "DzxIe5V6v8Qq"
      },
      "outputs": [],
      "source": [
        "struct InventoryItem: FirebaseIdentifiable, Identifiable, Codable {\n",
        "\n",
        "    @DocumentID var id: String?     // @DocumentID is firebases handling of the document id.\n",
        "    var objectID: String            # objectID is the same value as id, but not optional.\n",
        "    var itemType: ItemType\n",
        "    var name: String\n",
        "    var nameTrimmed: String\n",
        "    var additionalInfo: String\n",
        "    var categoryID: String\n",
        "    var currentLocation: Location\n",
        "    var currentHolderID: String\n",
        "    var currentHolderName: String\n",
        "    var currentHolderProfileImageURL: String\n",
        "    var dateAdded: Date\n",
        "    var isAvailable: Bool\n",
        "    var isExpired: Bool\n",
        "    var uploadedBy: String\n",
        "    var imagesUrls: [String]\n",
        "    var uiImages: [CodableImage] // for local use only\n",
        "    var projectID: String\n",
        "    var projectName: String\n",
        "\n",
        "    // Add number of times checked in for seach algorithm purposes\n",
        "    // Add CO2 kgs taken to make the item - This could be both attached to this item and categories\n",
        "\n",
        "    // Specific properties\n",
        "    var materialSpecifics: MaterialSpecifics?\n",
        "    var toolSpecifics: ToolSpecifics?\n",
        "\n",
        "    struct MaterialSpecifics: Codable, Hashable {\n",
        "        var quantity: Int\n",
        "        var specifications: [ItemSpecification]?\n",
        "    }\n",
        "\n",
        "    struct ToolSpecifics: Codable, Hashable {\n",
        "        var qrCodeID: String\n",
        "        var serialID: String\n",
        "        let scanHistory: [String]?\n",
        "        var brand: String?\n",
        "    }\n",
        "}"
      ]
    },
    {
      "cell_type": "markdown",
      "source": [
        "# Project\n",
        "\n",
        "Below is the schema for a project within cambitas. This one is pretty straight forward. If you have any questions write them below:"
      ],
      "metadata": {
        "id": "1Aga8Hu2yChY"
      }
    },
    {
      "cell_type": "code",
      "source": [
        "struct Project: FirebaseIdentifiable, Identifiable {\n",
        "\n",
        "    @DocumentID var id: String?\n",
        "    var objectID: String\n",
        "    var companyCode: String\n",
        "    var name: String\n",
        "    var description: String?\n",
        "    var timeCreated: Date\n",
        "    var createdBy: String\n",
        "    var startDate: Date\n",
        "    var endDate: Date\n",
        "    var location: Location\n",
        "    var address: String\n",
        "    var managerName: String\n",
        "    var managerID: String\n",
        "    var workersUserIDs: [String]?\n",
        "    var inventoryItemIDs: [String]?\n",
        "    var imagesUrls: [String]?\n",
        "\n",
        "}"
      ],
      "metadata": {
        "id": "ZWmSx8EmyWf5"
      },
      "execution_count": null,
      "outputs": []
    },
    {
      "cell_type": "markdown",
      "source": [
        "# User\n",
        "\n",
        "Below is the object schema for an app user. If you have any questions please write them below:"
      ],
      "metadata": {
        "id": "_7CFWdpXyihi"
      }
    },
    {
      "cell_type": "code",
      "source": [
        "struct AppUser: Codable, Identifiable, Hashable {\n",
        "    var id: String { uid }\n",
        "    let uid: String\n",
        "    var companyName: String\n",
        "    var companyCode: String\n",
        "    let email: String\n",
        "    let displayName: String\n",
        "    var profileImageUrl: String\n",
        "    var mobileNo: String\n",
        "    var role: Role = .admin\n",
        "    let createdAt: Date\n",
        "    var addedItemsID: [String]\n",
        "    var scannedItemIDs: [String]\n",
        "    let involvedProjectIDs: [String]\n",
        "\n",
        "    enum Role: String, CaseIterable, Codable {\n",
        "        case member = \"Member\"\n",
        "        case manager = \"Manager\"\n",
        "        case admin = \"Admin\"\n",
        "    }\n",
        "}"
      ],
      "metadata": {
        "id": "HoraINpYzBN7"
      },
      "execution_count": null,
      "outputs": []
    },
    {
      "cell_type": "code",
      "source": [],
      "metadata": {
        "id": "EsdqYTrDzHm8"
      },
      "execution_count": null,
      "outputs": []
    },
    {
      "cell_type": "markdown",
      "source": [
        "# Scan\n",
        "\n",
        "Below is the object schema for a *Scan*. Scans will be used when the user checks an item in. So, every time the user either scans a QR code, or scans it in through an approved request, a scan object will be created in the database to track all the necessary information. If you have any questions please ask below:"
      ],
      "metadata": {
        "id": "bD-sYfxCzDAj"
      }
    },
    {
      "cell_type": "code",
      "source": [
        "struct Scan: Codable, Identifiable, FirebaseIdentifiable {\n",
        "    @DocumentID var id: String?\n",
        "    var objectID: String\n",
        "    let itemName: String\n",
        "    let itemID: String\n",
        "    let itemCategoryID: String\n",
        "    let userID: String\n",
        "    let serialID: String?\n",
        "    let location: Location\n",
        "    let timeScanned: Date\n",
        "    let projectID: String\n",
        "    let projectName: String\n",
        "    let projectLocation: Location\n",
        "}"
      ],
      "metadata": {
        "id": "fiw9Sk_IzgPY"
      },
      "execution_count": null,
      "outputs": []
    },
    {
      "cell_type": "markdown",
      "source": [
        "# Company\n",
        "\n",
        "This is the schema for the Company object. This object may need additions, so please let me know.\n",
        "Any questions below:"
      ],
      "metadata": {
        "id": "xNtYMk1qzlhp"
      }
    },
    {
      "cell_type": "code",
      "source": [
        "struct Company: Codable, Identifiable, Hashable {\n",
        "    var id: String { companyCode }\n",
        "    let companyName: String\n",
        "    let companyCode: String\n",
        "    let companyImageUrl: String?\n",
        "    let createdAt: Date\n",
        "    let websiteUrl: String?\n",
        "    let address: String?\n",
        "}"
      ],
      "metadata": {
        "id": "vsZNuHdlzsJ1"
      },
      "execution_count": null,
      "outputs": []
    },
    {
      "cell_type": "markdown",
      "source": [
        "# Category\n",
        "\n",
        "This is the current category management system I have put in place. This system was recommended by my uncle, who has been a professional software developer for over 15 years now. Here is how the system works:\n",
        "\n",
        "### **IDs**\n",
        "- ID's are of type String\n",
        "- Each level of category is seperated by a colon \":\".\n",
        "- instead of having a subcategory as a *Category* object inside of itself, a subcategory is just another colon added to the id.\n",
        "- for example, \"5\" would be a top level category, \"5:2\" would be a subcategory, and \"5:2:6\" would be a sub-sub-category.\n",
        "\n",
        "#### **This ID system has pros and cons.**\n",
        "\n",
        "Pros:\n",
        "- allows for flat querying, all in one collection\n",
        "- Much easier on the database, less querying\n",
        "- able to retreive any layer of categories without retreiving any sub-categories.\n",
        "- Able to query a layer of categories (as in, all top level categoies, or just all subcategories, etc) much easier.\n",
        "- able to back track and see the top level category of a subcatgory easially.\n",
        "\n",
        "Cons:\n",
        "- A bit harder to implement, and slightly less intuitive\n",
        "\n",
        "### **SpecificationSchema**\n",
        "\n",
        "Other part of the *Category* object that is a bit complex is the *SpecificationSchema*. When adding a tool (reusable) to the database, we want to provide an option for the user to input \"specifications\" about the item. For example, if they are adding \"steel\", they could be prompted with the types fo steel, or the dimensions, etc.\n",
        "\n",
        "- Within the Specification Schema, there is a SpecificationTypeSchema which determines what type of input the schema is expecting. Either being\n",
        "  - single value\n",
        "  - multiple values\n",
        "  - optioned value (drop down menu)\n",
        "  - string value (manual for user input)\n",
        "\n",
        "- There is also a corresponding ItemSpecification object that uses a specification ID that takes the user input. Essentially, the Specification Schema provides the prompts for the user to input, while the ItemSpecification holds the actual user input.\n",
        "- Why was it done this way? You may ask. Well, as it may be a bit complex, it is the cleanest, least memory and query intensive method that I have found.\n",
        "\n",
        "If you have any questions or comments please leave them below:\n",
        "\n",
        "\n"
      ],
      "metadata": {
        "id": "8BEkEefOz4XG"
      }
    },
    {
      "cell_type": "code",
      "source": [
        "struct Category: Codable, Hashable, Identifiable {\n",
        "    var id: String\n",
        "    var name: String\n",
        "    var selectable: Bool?\n",
        "    var image: String?\n",
        "    var specificationsSchemas: [SpecificationSchema]?\n",
        "    func depth() -> Int {\n",
        "        return id.components(separatedBy: \":\").count\n",
        "    }\n",
        "}\n",
        "\n",
        "# An example of a category object initialization is below. The top level category being \"Materials\", and the subcategory being \"Steels\"\n",
        "\n",
        "    // MARK: - Materials\n",
        "    Category(id: \"1\", name: \"Materials\", image: \"materials.icon\", specificationsSchemas: nil),\n",
        "\n",
        "    // MARK: - Steels\n",
        "    Category(id: \"1:1\", name: \"Steels\", specificationsSchemas: [\n",
        "        SpecificationSchema(title: \"Dimensions\", type: .multipleValues(units: [\"m\", \"cm\"], valueTitles: [\"Width\", \"Height\", \"Length\"])),\n",
        "        SpecificationSchema(title: \"Steel type\", type: .optionedValue(options: [\"Alloy\", \"Stainless\", \"Tool\", \"Carbon\", \"Other\"])),\n",
        "        SpecificationSchema(title: \"Grade\", type: .optionedValue(options: [\"304\", \"316\", \"A36\", \"O1\", \"Other\"])),\n",
        "        SpecificationSchema(title: \"Finish\", type: .optionedValue(options: [\"Hot Rolled\", \"Cold Rolled\", \"Galvanized\", \"Other\"])),\n",
        "        SpecificationSchema(title: \"Tensile Strength\", type: .singleValue(units: [\"MPa\"])),\n",
        "        SpecificationSchema(title: \"Yield Strength\", type: .singleValue(units: [\"MPa\"])),\n",
        "        SpecificationSchema(title: \"Elongation\", type: .singleValue(units: [\"%\"])),\n",
        "        SpecificationSchema(title: \"Hardness\", type: .singleValue(units: [\"Rockwell\"])),\n",
        "        SpecificationSchema(title: \"Heat Treatment\", type: .optionedValue(options: [\"Annealed\", \"Quenched\", \"Tempered\", \"Other\"])),\n",
        "        SpecificationSchema(title: \"Coatings\", type: .optionedValue(options: [\"Zinc\", \"Nickel\", \"None\", \"Other\"])),\n",
        "        SpecificationSchema(title: \"Application\", type: .optionedValue(options: [\"Construction\", \"Tools\", \"Machinery\", \"Other\"]))\n",
        "    ]),"
      ],
      "metadata": {
        "id": "yYTU5q5u3JLu"
      },
      "execution_count": null,
      "outputs": []
    },
    {
      "cell_type": "code",
      "source": [
        "// MARK: - Spec Schema\n",
        "struct SpecificationSchema: Identifiable, Codable, Hashable {\n",
        "    var id = UUID()\n",
        "    var title: String\n",
        "    var type: SpecificationTypeSchema\n",
        "}\n",
        "\n",
        "enum SpecificationTypeSchema: Codable, Equatable, Hashable {\n",
        "    case singleValue(units: [String])\n",
        "    case multipleValues(units: [String], valueTitles: [String])\n",
        "    case optionedValue(options: [String])\n",
        "    case stringValue\n",
        "}\n",
        "\n",
        "// MARK: - User input\n",
        "struct ItemSpecification: Identifiable, Codable, Hashable {\n",
        "    var id = UUID()\n",
        "    var schemaID: UUID // This references the Schema/Template\n",
        "    var title: String\n",
        "    var value: SpecificationValue\n",
        "\n",
        "\n",
        "    func dictionary() -> [String: Any] {\n",
        "        var dict: [String: Any] = [:]\n",
        "\n",
        "        dict[\"id\"] = self.id\n",
        "        dict[\"schemaID\"] = self.schemaID\n",
        "        dict[\"title\"] = self.title\n",
        "        dict[\"value\"] = self.value.dictionary()\n",
        "\n",
        "        return dict\n",
        "    }\n",
        "}\n",
        "\n",
        "enum SpecificationValue: Codable, Equatable, Hashable {\n",
        "    case singleValue(selectedUnit: String?, value: Float?)\n",
        "    case multipleValues(selectedUnit: String?, values: [Float?])\n",
        "    case optionedValue(selectedOption: String?, customValue: String?)\n",
        "    case stringValue(value: String?)\n",
        "\n",
        "    func dictionary() -> [String: Any] {\n",
        "        var dict: [String: Any] = [:]\n",
        "\n",
        "        switch self {\n",
        "        case .singleValue(let selectedUnit, let value):\n",
        "            dict[\"selectedUnit\"] = selectedUnit\n",
        "            dict[\"value\"] = value\n",
        "        case .multipleValues(let selectedUnit, let values):\n",
        "            dict[\"selectedUnit\"] = selectedUnit\n",
        "            dict[\"values\"] = values\n",
        "        case .optionedValue(let selectedOption, let customValue):\n",
        "            dict[\"selectedOption\"] = selectedOption\n",
        "            dict[\"customValue\"] = customValue\n",
        "        case .stringValue(let value):\n",
        "            dict[\"value\"] = value\n",
        "        }\n",
        "\n",
        "        return dict\n",
        "    }\n",
        "\n",
        "}"
      ],
      "metadata": {
        "id": "H7lcyCSh3tcX"
      },
      "execution_count": null,
      "outputs": []
    },
    {
      "cell_type": "markdown",
      "source": [
        "# Request\n",
        "\n",
        "Below is the Request object schema. This the what is created whenever one user needs an item from another, or there needs to be a transer of items from one project to another. This schema should be pretty straight forward. If you have any questions let me know below:"
      ],
      "metadata": {
        "id": "PwNr_i8C5gEb"
      }
    },
    {
      "cell_type": "code",
      "source": [
        "struct Request: FirebaseIdentifiable, Identifiable {\n",
        "    @DocumentID var id: String?\n",
        "    var objectID: String\n",
        "    var requesterID: String\n",
        "    var requesterDisplayName: String\n",
        "    var requesterEmail: String\n",
        "    var requesterProfileImageURL: String\n",
        "    var recipientID: String\n",
        "    var recipientDisplayName: String\n",
        "    var recipientEmail: String\n",
        "    var recipientProfileImageURL: String\n",
        "    var itemID: String\n",
        "    var itemName: String\n",
        "    var itemImageURLs: [String]\n",
        "    var currentProjectID: String\n",
        "    var currentProjectName: String\n",
        "    var createdAt: Date\n",
        "    var requestStatus: RequestStatus\n",
        "\n",
        "    enum RequestStatus: String, CaseIterable, Codable {\n",
        "        case pending = \"Request Pending\"\n",
        "        case approved = \"Request Accepted\"\n",
        "        case denied = \"Declined\"\n",
        "        case checkedIn = \"Item Checked In\"\n",
        "    }\n",
        "}"
      ],
      "metadata": {
        "id": "HO1K2FGS52FZ"
      },
      "execution_count": null,
      "outputs": []
    }
  ]
}